{
  "nbformat": 4,
  "nbformat_minor": 0,
  "metadata": {
    "colab": {
      "name": "KawaSpace_Assignment.ipynb",
      "provenance": [],
      "collapsed_sections": []
    },
    "kernelspec": {
      "name": "python3",
      "display_name": "Python 3"
    },
    "language_info": {
      "name": "python"
    }
  },
  "cells": [
    {
      "cell_type": "markdown",
      "metadata": {
        "id": "haw-Ulf3frYx"
      },
      "source": [
        "To calculate the MSAVI2 index I am using Landsat 8 data for the given locations. To download Landsat8 data I am using Google Earth Engine. geemap is a python package for interactive mapping with google earth engine. geemap package is used to query and download Landsat data.\n",
        "ie, to select the images for the given location for a given time period, for the given area of interest, remove cloudy images etc. \n",
        "Then we can download the images to either our system or to the google drive.\n",
        " I am using Google Colab platform to run the code.Installing the geemap package using pip"
      ]
    },
    {
      "cell_type": "code",
      "metadata": {
        "id": "B4ggSTBqsGXZ"
      },
      "source": [
        "pip install geemap                      "
      ],
      "execution_count": null,
      "outputs": []
    },
    {
      "cell_type": "markdown",
      "metadata": {
        "id": "hSOtDaJTcD5C"
      },
      "source": [
        "Import necesary packages "
      ]
    },
    {
      "cell_type": "code",
      "metadata": {
        "id": "4VJgu5B7sMFx"
      },
      "source": [
        "import ee                               \n",
        "import geemap\n",
        "import os"
      ],
      "execution_count": 78,
      "outputs": []
    },
    {
      "cell_type": "markdown",
      "metadata": {
        "id": "Zuoecoj7cAuH"
      },
      "source": [
        "Connect with the google earth engine. You need to have google earth engine account created."
      ]
    },
    {
      "cell_type": "code",
      "metadata": {
        "id": "Bo38ZqdRt36S"
      },
      "source": [
        "Map = geemap.Map()                      \n",
        "Map"
      ],
      "execution_count": null,
      "outputs": []
    },
    {
      "cell_type": "markdown",
      "metadata": {
        "id": "oqRDw6Kmcdxv"
      },
      "source": [
        "The location data is stored into variables. we can change the roi to generate MSAVI2 index for differnet locations. Here I have taken location 2 as roi."
      ]
    },
    {
      "cell_type": "code",
      "metadata": {
        "id": "YVYHdU-qB7Sy"
      },
      "source": [
        "loc1 = ee.Geometry.Polygon([ [75.45157492160797,30.634404129904425],[75.4524278640747,30.63372099804389],\n",
        "                             [75.45236885547638,30.634399514164798],[75.45157492160797,30.634404129904425] ])\n",
        "loc2 = ee.Geometry.Polygon([ [85.85590660572052,26.093581136401006],[85.85663080215454,26.09337879451938 ],\n",
        "                             [85.85686147212981,26.094009907326967],[85.85622847080231,26.09425078918021]  ])\n",
        "loc3 = ee.Geometry.Polygon([ [78.6662346124649,17.6686911655875],[78.6662346124649,17.66929686130703],\n",
        "                             [78.66571158170699,17.66929686130703],[78.66571158170699,17.66869116558751]  ])"
      ],
      "execution_count": 80,
      "outputs": []
    },
    {
      "cell_type": "markdown",
      "metadata": {
        "id": "vV82lNNVlAzH"
      },
      "source": [
        "Here we are collecting all the images of landsat8 and then filter the images based on area of interest and date. We collect images of landsat 8 captured only during the given period. Also we can filter the images based on cloud cover if needed."
      ]
    },
    {
      "cell_type": "code",
      "metadata": {
        "id": "zj5xbPFKsj7R"
      },
      "source": [
        "roi = loc2\n",
        "collection = ee.ImageCollection (\"LANDSAT/LC08/C01/T1\") \\\n",
        "    .filterBounds(roi) \\\n",
        "    .filterDate('2020-01-01', '2020-06-30') #\\\n",
        "    #.filter(ee.Filter.metadata_(\"CLOUD_COVER\", \"less_than\", 10))"
      ],
      "execution_count": 81,
      "outputs": []
    },
    {
      "cell_type": "markdown",
      "metadata": {
        "id": "riMVZ7jfb6m1"
      },
      "source": [
        " Here we retrieve the ID of the images. We can see how many images are there."
      ]
    },
    {
      "cell_type": "code",
      "metadata": {
        "id": "Nx8ufjeatqLE"
      },
      "source": [
        "print(collection.aggregate_array('system:index').getInfo())          "
      ],
      "execution_count": null,
      "outputs": []
    },
    {
      "cell_type": "markdown",
      "metadata": {
        "id": "8vVW_y96b4xK"
      },
      "source": [
        "Since the roi is covered by two diiferent tiles, we select images from one tile only."
      ]
    },
    {
      "cell_type": "code",
      "metadata": {
        "id": "MR2kPfLV6rdZ"
      },
      "source": [
        "list = collection.aggregate_array('system:index').getInfo()          \n",
        "image_scene = list[0:9]\n",
        "print(image_scene)"
      ],
      "execution_count": null,
      "outputs": []
    },
    {
      "cell_type": "markdown",
      "metadata": {
        "id": "zVyF2F1UcNrG"
      },
      "source": [
        "The selected images can be downloaded to either our computer or to the drive. An roi can be given to download only the necessary data."
      ]
    },
    {
      "cell_type": "code",
      "metadata": {
        "id": "dnh_xjDYu4aq"
      },
      "source": [
        "for scene in image_scene:                                                                             \n",
        "  data1 = ee.Image('LANDSAT/LC08/C01/T1/'+scene)                                                      \n",
        "  roi = loc2\n",
        "  geemap.ee_export_image_to_drive(data1, description='%s' %scene, folder='LandsatData', region=roi, scale=10)"
      ],
      "execution_count": null,
      "outputs": []
    },
    {
      "cell_type": "markdown",
      "metadata": {
        "id": "fGxHK-05X2_Y"
      },
      "source": [
        "Pyrsgis is a python package used to read, write and for doing some basic functions on raster data. Installing the package using pip."
      ]
    },
    {
      "cell_type": "code",
      "metadata": {
        "id": "YLEBOhfCz8g5"
      },
      "source": [
        "pip install pyrsgis                          "
      ],
      "execution_count": null,
      "outputs": []
    },
    {
      "cell_type": "markdown",
      "metadata": {
        "id": "G2qNuaO8bwed"
      },
      "source": [
        "Here we are connecting the google drive with the google colab so that we can access the data in google drive."
      ]
    },
    {
      "cell_type": "code",
      "metadata": {
        "id": "PX5C77XdSEbu"
      },
      "source": [
        "from google.colab import drive\n",
        "drive.mount('/content/drive/')\n",
        "%cd /content/drive/My Drive/LandsatData/"
      ],
      "execution_count": null,
      "outputs": []
    },
    {
      "cell_type": "markdown",
      "metadata": {
        "id": "AxW-Z6eoagoR"
      },
      "source": [
        " The packages are imported. To calculate the MSAVI2 index we need to take the NIR and Red Bands from each rasters. Here I have taken NIR and Red bands from an image and read it as a numpy array. The raster information such as the projection are stored in the variable 'ds'. Next we can calculate the MSAVI using the equation. Last we can export the calculated MSAVI as raster to the drive."
      ]
    },
    {
      "cell_type": "code",
      "metadata": {
        "id": "1fQpOx2Bu8kD",
        "colab": {
          "base_uri": "https://localhost:8080/",
          "height": 731
        },
        "outputId": "b66da848-3c36-433a-b391-05b32345eac3"
      },
      "source": [
        "from pyrsgis import raster                                                     \n",
        "import numpy as np                                                              \n",
        "import math                                                                     \n",
        "for scene in image_scene:                                                  \n",
        "  file = scene+'.tif'\n",
        "  print(file)\n",
        "  print(RedBand)\n",
        "  print(NIRBand)\n",
        "  ds, RedBand = raster.read(file, bands=4)\n",
        "  ds, NIRBand = raster.read(file, bands=5)\n",
        "  MSAVI = 1/2*(2*NIRBand+1-np.sqrt(np.square((2*NIRBand+1), dtype='int32')-8*(NIRBand-RedBand)))\n",
        "  raster.export(MSAVI, ds, '/content/drive/My Drive/LandsatData/MSAVI_'+scene+'.tif', dtype='float64', bands='all') \n"
      ],
      "execution_count": 88,
      "outputs": [
        {
          "output_type": "stream",
          "text": [
            "LC08_140042_20200115.tif\n",
            "[[20790 20790 20839 20839 20839 20823 20823 20823 20913 20913]\n",
            " [20487 20487 20582 20582 20582 20852 20852 20852 20992 20992]\n",
            " [20487 20487 20582 20582 20582 20852 20852 20852 20992 20992]\n",
            " [20487 20487 20582 20582 20582 20852 20852 20852 20992 20992]\n",
            " [20283 20283 20581 20581 20581 21134 21134 21134 21301 21301]\n",
            " [20283 20283 20581 20581 20581 21134 21134 21134 21301 21301]\n",
            " [20283 20283 20581 20581 20581 21134 21134 21134 21301 21301]\n",
            " [20820 20820 21133 21133 21133 21371 21371 21371 21424 21424]\n",
            " [20820 20820 21133 21133 21133 21371 21371 21371 21424 21424]\n",
            " [20820 20820 21133 21133 21133 21371 21371 21371 21424 21424]]\n",
            "[[23535 23535 23579 23579 23579 23549 23549 23549 23664 23664]\n",
            " [23188 23188 23212 23212 23212 23485 23485 23485 23692 23692]\n",
            " [23188 23188 23212 23212 23212 23485 23485 23485 23692 23692]\n",
            " [23188 23188 23212 23212 23212 23485 23485 23485 23692 23692]\n",
            " [22915 22915 23219 23219 23219 23753 23753 23753 24009 24009]\n",
            " [22915 22915 23219 23219 23219 23753 23753 23753 24009 24009]\n",
            " [22915 22915 23219 23219 23219 23753 23753 23753 24009 24009]\n",
            " [23415 23415 23854 23854 23854 24070 24070 24070 24165 24165]\n",
            " [23415 23415 23854 23854 23854 24070 24070 24070 24165 24165]\n",
            " [23415 23415 23854 23854 23854 24070 24070 24070 24165 24165]]\n"
          ],
          "name": "stdout"
        },
        {
          "output_type": "error",
          "ename": "AttributeError",
          "evalue": "ignored",
          "traceback": [
            "\u001b[0;31m---------------------------------------------------------------------------\u001b[0m",
            "\u001b[0;31mAttributeError\u001b[0m                            Traceback (most recent call last)",
            "\u001b[0;32m<ipython-input-88-921d2e5c4826>\u001b[0m in \u001b[0;36m<module>\u001b[0;34m()\u001b[0m\n\u001b[1;32m      7\u001b[0m   \u001b[0mprint\u001b[0m\u001b[0;34m(\u001b[0m\u001b[0mRedBand\u001b[0m\u001b[0;34m)\u001b[0m\u001b[0;34m\u001b[0m\u001b[0;34m\u001b[0m\u001b[0m\n\u001b[1;32m      8\u001b[0m   \u001b[0mprint\u001b[0m\u001b[0;34m(\u001b[0m\u001b[0mNIRBand\u001b[0m\u001b[0;34m)\u001b[0m\u001b[0;34m\u001b[0m\u001b[0;34m\u001b[0m\u001b[0m\n\u001b[0;32m----> 9\u001b[0;31m   \u001b[0mds\u001b[0m\u001b[0;34m,\u001b[0m \u001b[0mRedBand\u001b[0m \u001b[0;34m=\u001b[0m \u001b[0mraster\u001b[0m\u001b[0;34m.\u001b[0m\u001b[0mread\u001b[0m\u001b[0;34m(\u001b[0m\u001b[0mfile\u001b[0m\u001b[0;34m,\u001b[0m \u001b[0mbands\u001b[0m\u001b[0;34m=\u001b[0m\u001b[0;36m4\u001b[0m\u001b[0;34m)\u001b[0m\u001b[0;34m\u001b[0m\u001b[0;34m\u001b[0m\u001b[0m\n\u001b[0m\u001b[1;32m     10\u001b[0m   \u001b[0mds\u001b[0m\u001b[0;34m,\u001b[0m \u001b[0mNIRBand\u001b[0m \u001b[0;34m=\u001b[0m \u001b[0mraster\u001b[0m\u001b[0;34m.\u001b[0m\u001b[0mread\u001b[0m\u001b[0;34m(\u001b[0m\u001b[0mfile\u001b[0m\u001b[0;34m,\u001b[0m \u001b[0mbands\u001b[0m\u001b[0;34m=\u001b[0m\u001b[0;36m5\u001b[0m\u001b[0;34m)\u001b[0m\u001b[0;34m\u001b[0m\u001b[0;34m\u001b[0m\u001b[0m\n\u001b[1;32m     11\u001b[0m   \u001b[0mMSAVI\u001b[0m \u001b[0;34m=\u001b[0m \u001b[0;36m1\u001b[0m\u001b[0;34m/\u001b[0m\u001b[0;36m2\u001b[0m\u001b[0;34m*\u001b[0m\u001b[0;34m(\u001b[0m\u001b[0;36m2\u001b[0m\u001b[0;34m*\u001b[0m\u001b[0mNIRBand\u001b[0m\u001b[0;34m+\u001b[0m\u001b[0;36m1\u001b[0m\u001b[0;34m-\u001b[0m\u001b[0mnp\u001b[0m\u001b[0;34m.\u001b[0m\u001b[0msqrt\u001b[0m\u001b[0;34m(\u001b[0m\u001b[0mnp\u001b[0m\u001b[0;34m.\u001b[0m\u001b[0msquare\u001b[0m\u001b[0;34m(\u001b[0m\u001b[0;34m(\u001b[0m\u001b[0;36m2\u001b[0m\u001b[0;34m*\u001b[0m\u001b[0mNIRBand\u001b[0m\u001b[0;34m+\u001b[0m\u001b[0;36m1\u001b[0m\u001b[0;34m)\u001b[0m\u001b[0;34m,\u001b[0m \u001b[0mdtype\u001b[0m\u001b[0;34m=\u001b[0m\u001b[0;34m'int32'\u001b[0m\u001b[0;34m)\u001b[0m\u001b[0;34m-\u001b[0m\u001b[0;36m8\u001b[0m\u001b[0;34m*\u001b[0m\u001b[0;34m(\u001b[0m\u001b[0mNIRBand\u001b[0m\u001b[0;34m-\u001b[0m\u001b[0mRedBand\u001b[0m\u001b[0;34m)\u001b[0m\u001b[0;34m)\u001b[0m\u001b[0;34m)\u001b[0m\u001b[0;34m\u001b[0m\u001b[0;34m\u001b[0m\u001b[0m\n",
            "\u001b[0;32m/usr/local/lib/python3.7/dist-packages/pyrsgis/raster/__init__.py\u001b[0m in \u001b[0;36mread\u001b[0;34m(file, bands)\u001b[0m\n\u001b[1;32m     54\u001b[0m          \u001b[0mtype\u001b[0m\u001b[0;34m(\u001b[0m\u001b[0mbands\u001b[0m\u001b[0;34m)\u001b[0m \u001b[0;34m==\u001b[0m \u001b[0mtype\u001b[0m\u001b[0;34m(\u001b[0m\u001b[0mtuple\u001b[0m\u001b[0;34m(\u001b[0m\u001b[0;34m)\u001b[0m\u001b[0;34m)\u001b[0m \u001b[0;32mor\u001b[0m\u001b[0;31m\\\u001b[0m\u001b[0;34m\u001b[0m\u001b[0;34m\u001b[0m\u001b[0m\n\u001b[1;32m     55\u001b[0m          \u001b[0mtype\u001b[0m\u001b[0;34m(\u001b[0m\u001b[0mbands\u001b[0m\u001b[0;34m)\u001b[0m \u001b[0;34m==\u001b[0m \u001b[0mtype\u001b[0m\u001b[0;34m(\u001b[0m\u001b[0;36m1\u001b[0m\u001b[0;34m)\u001b[0m\u001b[0;34m:\u001b[0m\u001b[0;34m\u001b[0m\u001b[0;34m\u001b[0m\u001b[0m\n\u001b[0;32m---> 56\u001b[0;31m         \u001b[0marray\u001b[0m \u001b[0;34m=\u001b[0m \u001b[0mextractBands\u001b[0m\u001b[0;34m(\u001b[0m\u001b[0mds\u001b[0m\u001b[0;34m,\u001b[0m \u001b[0mbands\u001b[0m\u001b[0;34m)\u001b[0m\u001b[0;34m\u001b[0m\u001b[0;34m\u001b[0m\u001b[0m\n\u001b[0m\u001b[1;32m     57\u001b[0m         \u001b[0mds\u001b[0m \u001b[0;34m=\u001b[0m \u001b[0mcreateDS\u001b[0m\u001b[0;34m(\u001b[0m\u001b[0mds\u001b[0m\u001b[0;34m)\u001b[0m\u001b[0;34m\u001b[0m\u001b[0;34m\u001b[0m\u001b[0m\n\u001b[1;32m     58\u001b[0m         \u001b[0;32mreturn\u001b[0m\u001b[0;34m(\u001b[0m\u001b[0mds\u001b[0m\u001b[0;34m,\u001b[0m \u001b[0marray\u001b[0m\u001b[0;34m)\u001b[0m\u001b[0;34m\u001b[0m\u001b[0;34m\u001b[0m\u001b[0m\n",
            "\u001b[0;32m/usr/local/lib/python3.7/dist-packages/pyrsgis/raster/__init__.py\u001b[0m in \u001b[0;36mextractBands\u001b[0;34m(ds, bands)\u001b[0m\n\u001b[1;32m     29\u001b[0m \u001b[0;34m\u001b[0m\u001b[0m\n\u001b[1;32m     30\u001b[0m \u001b[0;32mdef\u001b[0m \u001b[0mextractBands\u001b[0m\u001b[0;34m(\u001b[0m\u001b[0mds\u001b[0m\u001b[0;34m,\u001b[0m \u001b[0mbands\u001b[0m\u001b[0;34m)\u001b[0m\u001b[0;34m:\u001b[0m\u001b[0;34m\u001b[0m\u001b[0;34m\u001b[0m\u001b[0m\n\u001b[0;32m---> 31\u001b[0;31m     \u001b[0;32mif\u001b[0m \u001b[0mds\u001b[0m\u001b[0;34m.\u001b[0m\u001b[0mRasterCount\u001b[0m \u001b[0;34m>\u001b[0m \u001b[0;36m1\u001b[0m\u001b[0;34m:\u001b[0m\u001b[0;34m\u001b[0m\u001b[0;34m\u001b[0m\u001b[0m\n\u001b[0m\u001b[1;32m     32\u001b[0m         \u001b[0mlayer\u001b[0m\u001b[0;34m,\u001b[0m \u001b[0mrow\u001b[0m\u001b[0;34m,\u001b[0m \u001b[0mcol\u001b[0m \u001b[0;34m=\u001b[0m \u001b[0mds\u001b[0m\u001b[0;34m.\u001b[0m\u001b[0mRasterCount\u001b[0m\u001b[0;34m,\u001b[0m \u001b[0mds\u001b[0m\u001b[0;34m.\u001b[0m\u001b[0mRasterYSize\u001b[0m\u001b[0;34m,\u001b[0m \u001b[0mds\u001b[0m\u001b[0;34m.\u001b[0m\u001b[0mRasterXSize\u001b[0m\u001b[0;34m\u001b[0m\u001b[0;34m\u001b[0m\u001b[0m\n\u001b[1;32m     33\u001b[0m         \u001b[0;32mif\u001b[0m \u001b[0;34m(\u001b[0m\u001b[0mtype\u001b[0m\u001b[0;34m(\u001b[0m\u001b[0mbands\u001b[0m\u001b[0;34m)\u001b[0m \u001b[0;34m==\u001b[0m \u001b[0mtype\u001b[0m\u001b[0;34m(\u001b[0m\u001b[0mlist\u001b[0m\u001b[0;34m(\u001b[0m\u001b[0;34m)\u001b[0m\u001b[0;34m)\u001b[0m\u001b[0;34m)\u001b[0m \u001b[0;32mor\u001b[0m \u001b[0;34m(\u001b[0m\u001b[0mtype\u001b[0m\u001b[0;34m(\u001b[0m\u001b[0mbands\u001b[0m\u001b[0;34m)\u001b[0m \u001b[0;34m==\u001b[0m \u001b[0mtype\u001b[0m\u001b[0;34m(\u001b[0m\u001b[0mtuple\u001b[0m\u001b[0;34m(\u001b[0m\u001b[0;34m)\u001b[0m\u001b[0;34m)\u001b[0m\u001b[0;34m)\u001b[0m\u001b[0;34m:\u001b[0m\u001b[0;34m\u001b[0m\u001b[0;34m\u001b[0m\u001b[0m\n",
            "\u001b[0;31mAttributeError\u001b[0m: 'NoneType' object has no attribute 'RasterCount'"
          ]
        }
      ]
    },
    {
      "cell_type": "markdown",
      "metadata": {
        "id": "-lFrUK39kMZL"
      },
      "source": [
        "I could only do this much. I was not able to create a time series graph of each location."
      ]
    },
    {
      "cell_type": "code",
      "metadata": {
        "id": "kt2cAzk-n_3F"
      },
      "source": [
        ""
      ],
      "execution_count": null,
      "outputs": []
    }
  ]
}